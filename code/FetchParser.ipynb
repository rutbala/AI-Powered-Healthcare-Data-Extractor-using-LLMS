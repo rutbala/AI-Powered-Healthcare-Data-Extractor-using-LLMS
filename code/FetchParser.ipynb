{
  "cells": [
    {
      "cell_type": "markdown",
      "metadata": {
        "id": "aqwCqXwpSat9"
      },
      "source": [
        "# Packages"
      ]
    },
    {
      "cell_type": "code",
      "execution_count": 42,
      "metadata": {
        "id": "jdG6aBMEW7Pf",
        "colab": {
          "base_uri": "https://localhost:8080/"
        },
        "outputId": "a568b054-3994-44f5-f920-af126d703800"
      },
      "outputs": [
        {
          "output_type": "stream",
          "name": "stdout",
          "text": [
            "Requirement already satisfied: langchain-cohere in /usr/local/lib/python3.10/dist-packages (0.3.4)\n",
            "Requirement already satisfied: cohere<6.0,>=5.5.6 in /usr/local/lib/python3.10/dist-packages (from langchain-cohere) (5.13.4)\n",
            "Requirement already satisfied: langchain-core<0.4.0,>=0.3.27 in /usr/local/lib/python3.10/dist-packages (from langchain-cohere) (0.3.28)\n",
            "Requirement already satisfied: langchain-experimental<0.4.0,>=0.3.0 in /usr/local/lib/python3.10/dist-packages (from langchain-cohere) (0.3.4)\n",
            "Requirement already satisfied: pandas>=1.4.3 in /usr/local/lib/python3.10/dist-packages (from langchain-cohere) (2.2.2)\n",
            "Requirement already satisfied: pydantic<3,>=2 in /usr/local/lib/python3.10/dist-packages (from langchain-cohere) (2.10.3)\n",
            "Requirement already satisfied: tabulate<0.10.0,>=0.9.0 in /usr/local/lib/python3.10/dist-packages (from langchain-cohere) (0.9.0)\n",
            "Requirement already satisfied: fastavro<2.0.0,>=1.9.4 in /usr/local/lib/python3.10/dist-packages (from cohere<6.0,>=5.5.6->langchain-cohere) (1.10.0)\n",
            "Requirement already satisfied: httpx>=0.21.2 in /usr/local/lib/python3.10/dist-packages (from cohere<6.0,>=5.5.6->langchain-cohere) (0.28.1)\n",
            "Requirement already satisfied: httpx-sse==0.4.0 in /usr/local/lib/python3.10/dist-packages (from cohere<6.0,>=5.5.6->langchain-cohere) (0.4.0)\n",
            "Requirement already satisfied: parameterized<0.10.0,>=0.9.0 in /usr/local/lib/python3.10/dist-packages (from cohere<6.0,>=5.5.6->langchain-cohere) (0.9.0)\n",
            "Requirement already satisfied: pydantic-core<3.0.0,>=2.18.2 in /usr/local/lib/python3.10/dist-packages (from cohere<6.0,>=5.5.6->langchain-cohere) (2.27.1)\n",
            "Requirement already satisfied: requests<3.0.0,>=2.0.0 in /usr/local/lib/python3.10/dist-packages (from cohere<6.0,>=5.5.6->langchain-cohere) (2.32.3)\n",
            "Requirement already satisfied: tokenizers<1,>=0.15 in /usr/local/lib/python3.10/dist-packages (from cohere<6.0,>=5.5.6->langchain-cohere) (0.21.0)\n",
            "Requirement already satisfied: types-requests<3.0.0,>=2.0.0 in /usr/local/lib/python3.10/dist-packages (from cohere<6.0,>=5.5.6->langchain-cohere) (2.32.0.20241016)\n",
            "Requirement already satisfied: typing_extensions>=4.0.0 in /usr/local/lib/python3.10/dist-packages (from cohere<6.0,>=5.5.6->langchain-cohere) (4.12.2)\n",
            "Requirement already satisfied: PyYAML>=5.3 in /usr/local/lib/python3.10/dist-packages (from langchain-core<0.4.0,>=0.3.27->langchain-cohere) (6.0.2)\n",
            "Requirement already satisfied: jsonpatch<2.0,>=1.33 in /usr/local/lib/python3.10/dist-packages (from langchain-core<0.4.0,>=0.3.27->langchain-cohere) (1.33)\n",
            "Requirement already satisfied: langsmith<0.3,>=0.1.125 in /usr/local/lib/python3.10/dist-packages (from langchain-core<0.4.0,>=0.3.27->langchain-cohere) (0.2.3)\n",
            "Requirement already satisfied: packaging<25,>=23.2 in /usr/local/lib/python3.10/dist-packages (from langchain-core<0.4.0,>=0.3.27->langchain-cohere) (24.2)\n",
            "Requirement already satisfied: tenacity!=8.4.0,<10.0.0,>=8.1.0 in /usr/local/lib/python3.10/dist-packages (from langchain-core<0.4.0,>=0.3.27->langchain-cohere) (9.0.0)\n",
            "Requirement already satisfied: langchain-community<0.4.0,>=0.3.0 in /usr/local/lib/python3.10/dist-packages (from langchain-experimental<0.4.0,>=0.3.0->langchain-cohere) (0.3.13)\n",
            "Requirement already satisfied: numpy>=1.22.4 in /usr/local/lib/python3.10/dist-packages (from pandas>=1.4.3->langchain-cohere) (1.26.4)\n",
            "Requirement already satisfied: python-dateutil>=2.8.2 in /usr/local/lib/python3.10/dist-packages (from pandas>=1.4.3->langchain-cohere) (2.8.2)\n",
            "Requirement already satisfied: pytz>=2020.1 in /usr/local/lib/python3.10/dist-packages (from pandas>=1.4.3->langchain-cohere) (2024.2)\n",
            "Requirement already satisfied: tzdata>=2022.7 in /usr/local/lib/python3.10/dist-packages (from pandas>=1.4.3->langchain-cohere) (2024.2)\n",
            "Requirement already satisfied: annotated-types>=0.6.0 in /usr/local/lib/python3.10/dist-packages (from pydantic<3,>=2->langchain-cohere) (0.7.0)\n",
            "Requirement already satisfied: anyio in /usr/local/lib/python3.10/dist-packages (from httpx>=0.21.2->cohere<6.0,>=5.5.6->langchain-cohere) (3.7.1)\n",
            "Requirement already satisfied: certifi in /usr/local/lib/python3.10/dist-packages (from httpx>=0.21.2->cohere<6.0,>=5.5.6->langchain-cohere) (2024.12.14)\n",
            "Requirement already satisfied: httpcore==1.* in /usr/local/lib/python3.10/dist-packages (from httpx>=0.21.2->cohere<6.0,>=5.5.6->langchain-cohere) (1.0.7)\n",
            "Requirement already satisfied: idna in /usr/local/lib/python3.10/dist-packages (from httpx>=0.21.2->cohere<6.0,>=5.5.6->langchain-cohere) (3.10)\n",
            "Requirement already satisfied: h11<0.15,>=0.13 in /usr/local/lib/python3.10/dist-packages (from httpcore==1.*->httpx>=0.21.2->cohere<6.0,>=5.5.6->langchain-cohere) (0.14.0)\n",
            "Requirement already satisfied: jsonpointer>=1.9 in /usr/local/lib/python3.10/dist-packages (from jsonpatch<2.0,>=1.33->langchain-core<0.4.0,>=0.3.27->langchain-cohere) (3.0.0)\n",
            "Requirement already satisfied: SQLAlchemy<3,>=1.4 in /usr/local/lib/python3.10/dist-packages (from langchain-community<0.4.0,>=0.3.0->langchain-experimental<0.4.0,>=0.3.0->langchain-cohere) (2.0.36)\n",
            "Requirement already satisfied: aiohttp<4.0.0,>=3.8.3 in /usr/local/lib/python3.10/dist-packages (from langchain-community<0.4.0,>=0.3.0->langchain-experimental<0.4.0,>=0.3.0->langchain-cohere) (3.11.10)\n",
            "Requirement already satisfied: dataclasses-json<0.7,>=0.5.7 in /usr/local/lib/python3.10/dist-packages (from langchain-community<0.4.0,>=0.3.0->langchain-experimental<0.4.0,>=0.3.0->langchain-cohere) (0.6.7)\n",
            "Requirement already satisfied: langchain<0.4.0,>=0.3.13 in /usr/local/lib/python3.10/dist-packages (from langchain-community<0.4.0,>=0.3.0->langchain-experimental<0.4.0,>=0.3.0->langchain-cohere) (0.3.13)\n",
            "Requirement already satisfied: pydantic-settings<3.0.0,>=2.4.0 in /usr/local/lib/python3.10/dist-packages (from langchain-community<0.4.0,>=0.3.0->langchain-experimental<0.4.0,>=0.3.0->langchain-cohere) (2.7.1)\n",
            "Requirement already satisfied: orjson<4.0.0,>=3.9.14 in /usr/local/lib/python3.10/dist-packages (from langsmith<0.3,>=0.1.125->langchain-core<0.4.0,>=0.3.27->langchain-cohere) (3.10.12)\n",
            "Requirement already satisfied: requests-toolbelt<2.0.0,>=1.0.0 in /usr/local/lib/python3.10/dist-packages (from langsmith<0.3,>=0.1.125->langchain-core<0.4.0,>=0.3.27->langchain-cohere) (1.0.0)\n",
            "Requirement already satisfied: six>=1.5 in /usr/local/lib/python3.10/dist-packages (from python-dateutil>=2.8.2->pandas>=1.4.3->langchain-cohere) (1.17.0)\n",
            "Requirement already satisfied: charset-normalizer<4,>=2 in /usr/local/lib/python3.10/dist-packages (from requests<3.0.0,>=2.0.0->cohere<6.0,>=5.5.6->langchain-cohere) (3.4.0)\n",
            "Requirement already satisfied: urllib3<3,>=1.21.1 in /usr/local/lib/python3.10/dist-packages (from requests<3.0.0,>=2.0.0->cohere<6.0,>=5.5.6->langchain-cohere) (2.2.3)\n",
            "Requirement already satisfied: huggingface-hub<1.0,>=0.16.4 in /usr/local/lib/python3.10/dist-packages (from tokenizers<1,>=0.15->cohere<6.0,>=5.5.6->langchain-cohere) (0.27.0)\n",
            "Requirement already satisfied: aiohappyeyeballs>=2.3.0 in /usr/local/lib/python3.10/dist-packages (from aiohttp<4.0.0,>=3.8.3->langchain-community<0.4.0,>=0.3.0->langchain-experimental<0.4.0,>=0.3.0->langchain-cohere) (2.4.4)\n",
            "Requirement already satisfied: aiosignal>=1.1.2 in /usr/local/lib/python3.10/dist-packages (from aiohttp<4.0.0,>=3.8.3->langchain-community<0.4.0,>=0.3.0->langchain-experimental<0.4.0,>=0.3.0->langchain-cohere) (1.3.2)\n",
            "Requirement already satisfied: async-timeout<6.0,>=4.0 in /usr/local/lib/python3.10/dist-packages (from aiohttp<4.0.0,>=3.8.3->langchain-community<0.4.0,>=0.3.0->langchain-experimental<0.4.0,>=0.3.0->langchain-cohere) (4.0.3)\n",
            "Requirement already satisfied: attrs>=17.3.0 in /usr/local/lib/python3.10/dist-packages (from aiohttp<4.0.0,>=3.8.3->langchain-community<0.4.0,>=0.3.0->langchain-experimental<0.4.0,>=0.3.0->langchain-cohere) (24.3.0)\n",
            "Requirement already satisfied: frozenlist>=1.1.1 in /usr/local/lib/python3.10/dist-packages (from aiohttp<4.0.0,>=3.8.3->langchain-community<0.4.0,>=0.3.0->langchain-experimental<0.4.0,>=0.3.0->langchain-cohere) (1.5.0)\n",
            "Requirement already satisfied: multidict<7.0,>=4.5 in /usr/local/lib/python3.10/dist-packages (from aiohttp<4.0.0,>=3.8.3->langchain-community<0.4.0,>=0.3.0->langchain-experimental<0.4.0,>=0.3.0->langchain-cohere) (6.1.0)\n",
            "Requirement already satisfied: propcache>=0.2.0 in /usr/local/lib/python3.10/dist-packages (from aiohttp<4.0.0,>=3.8.3->langchain-community<0.4.0,>=0.3.0->langchain-experimental<0.4.0,>=0.3.0->langchain-cohere) (0.2.1)\n",
            "Requirement already satisfied: yarl<2.0,>=1.17.0 in /usr/local/lib/python3.10/dist-packages (from aiohttp<4.0.0,>=3.8.3->langchain-community<0.4.0,>=0.3.0->langchain-experimental<0.4.0,>=0.3.0->langchain-cohere) (1.18.3)\n",
            "Requirement already satisfied: marshmallow<4.0.0,>=3.18.0 in /usr/local/lib/python3.10/dist-packages (from dataclasses-json<0.7,>=0.5.7->langchain-community<0.4.0,>=0.3.0->langchain-experimental<0.4.0,>=0.3.0->langchain-cohere) (3.23.2)\n",
            "Requirement already satisfied: typing-inspect<1,>=0.4.0 in /usr/local/lib/python3.10/dist-packages (from dataclasses-json<0.7,>=0.5.7->langchain-community<0.4.0,>=0.3.0->langchain-experimental<0.4.0,>=0.3.0->langchain-cohere) (0.9.0)\n",
            "Requirement already satisfied: filelock in /usr/local/lib/python3.10/dist-packages (from huggingface-hub<1.0,>=0.16.4->tokenizers<1,>=0.15->cohere<6.0,>=5.5.6->langchain-cohere) (3.16.1)\n",
            "Requirement already satisfied: fsspec>=2023.5.0 in /usr/local/lib/python3.10/dist-packages (from huggingface-hub<1.0,>=0.16.4->tokenizers<1,>=0.15->cohere<6.0,>=5.5.6->langchain-cohere) (2024.10.0)\n",
            "Requirement already satisfied: tqdm>=4.42.1 in /usr/local/lib/python3.10/dist-packages (from huggingface-hub<1.0,>=0.16.4->tokenizers<1,>=0.15->cohere<6.0,>=5.5.6->langchain-cohere) (4.67.1)\n",
            "Requirement already satisfied: langchain-text-splitters<0.4.0,>=0.3.3 in /usr/local/lib/python3.10/dist-packages (from langchain<0.4.0,>=0.3.13->langchain-community<0.4.0,>=0.3.0->langchain-experimental<0.4.0,>=0.3.0->langchain-cohere) (0.3.3)\n",
            "Requirement already satisfied: python-dotenv>=0.21.0 in /usr/local/lib/python3.10/dist-packages (from pydantic-settings<3.0.0,>=2.4.0->langchain-community<0.4.0,>=0.3.0->langchain-experimental<0.4.0,>=0.3.0->langchain-cohere) (1.0.1)\n",
            "Requirement already satisfied: greenlet!=0.4.17 in /usr/local/lib/python3.10/dist-packages (from SQLAlchemy<3,>=1.4->langchain-community<0.4.0,>=0.3.0->langchain-experimental<0.4.0,>=0.3.0->langchain-cohere) (3.1.1)\n",
            "Requirement already satisfied: sniffio>=1.1 in /usr/local/lib/python3.10/dist-packages (from anyio->httpx>=0.21.2->cohere<6.0,>=5.5.6->langchain-cohere) (1.3.1)\n",
            "Requirement already satisfied: exceptiongroup in /usr/local/lib/python3.10/dist-packages (from anyio->httpx>=0.21.2->cohere<6.0,>=5.5.6->langchain-cohere) (1.2.2)\n",
            "Requirement already satisfied: mypy-extensions>=0.3.0 in /usr/local/lib/python3.10/dist-packages (from typing-inspect<1,>=0.4.0->dataclasses-json<0.7,>=0.5.7->langchain-community<0.4.0,>=0.3.0->langchain-experimental<0.4.0,>=0.3.0->langchain-cohere) (1.0.0)\n"
          ]
        }
      ],
      "source": [
        "!pip install openai --quiet\n",
        "!pip install langchain --quiet\n",
        "!pip install langchain-cohere\n",
        "!pip install langchain-community --quiet"
      ]
    },
    {
      "cell_type": "code",
      "execution_count": 43,
      "metadata": {
        "id": "vuYX6JM3XAE9"
      },
      "outputs": [],
      "source": [
        "import os\n",
        "from google.colab import userdata\n",
        "os.environ['OPENAI_API_KEY'] = userdata.get(\"OPENAI_API_KEY\")\n",
        "os.environ['COHERE_API_KEY'] = userdata.get(\"COHERE_API_KEY\")"
      ]
    },
    {
      "cell_type": "code",
      "execution_count": 44,
      "metadata": {
        "id": "t59WPSplbGJ7"
      },
      "outputs": [],
      "source": [
        "from langchain.llms import OpenAI, Cohere\n",
        "from langchain.prompts import PromptTemplate\n",
        "from langchain.chains import LLMChain"
      ]
    },
    {
      "cell_type": "code",
      "execution_count": 45,
      "metadata": {
        "id": "ZloNuABEWq_s"
      },
      "outputs": [],
      "source": [
        "from langchain.document_loaders import PyPDFLoader\n",
        "from langchain.document_loaders import CSVLoader\n",
        "from langchain.document_loaders import TextLoader"
      ]
    },
    {
      "cell_type": "markdown",
      "metadata": {
        "id": "oC6zY59SZ1_9"
      },
      "source": [
        "### Basic Document/text Loader for fetching patient reports\n"
      ]
    },
    {
      "cell_type": "code",
      "execution_count": 46,
      "metadata": {
        "id": "rNcik0GWWzvd",
        "colab": {
          "base_uri": "https://localhost:8080/"
        },
        "outputId": "15490343-9190-431c-e355-d348faa60ee2"
      },
      "outputs": [
        {
          "output_type": "stream",
          "name": "stdout",
          "text": [
            "--2025-01-02 07:39:38--  https://raw.githubusercontent.com/harshitgupta1998/MedChain-Leveraging-AI-for-Medical-Applications/refs/heads/main/patienthistory.md\n",
            "Resolving raw.githubusercontent.com (raw.githubusercontent.com)... 185.199.108.133, 185.199.109.133, 185.199.110.133, ...\n",
            "Connecting to raw.githubusercontent.com (raw.githubusercontent.com)|185.199.108.133|:443... connected.\n",
            "HTTP request sent, awaiting response... 200 OK\n",
            "Length: 1203 (1.2K) [text/plain]\n",
            "Saving to: ‘patienthistory.md.2’\n",
            "\n",
            "\rpatienthistory.md.2   0%[                    ]       0  --.-KB/s               \rpatienthistory.md.2 100%[===================>]   1.17K  --.-KB/s    in 0s      \n",
            "\n",
            "2025-01-02 07:39:39 (54.2 MB/s) - ‘patienthistory.md.2’ saved [1203/1203]\n",
            "\n",
            "<class 'list'>\n",
            "[Document(metadata={'source': './patienthistory.md'}, page_content='Patient’s clinical history:\\nPlease also state the source of the information (e.g. from medical records, from the patient, from the applicant etc.).\\nMr Tan Ah Kow was accompanied by his son, Mr Tan Ah Beng, for the examination. Mr Tan is a 55 year old man, who is divorced, and unemployed. Mr Tan is currently living with his son, Ah Beng, in Ah Beng’s flat. Mr Tan Ah Beng informed me that Mr Tan Ah Kow used to work as a cleaner.\\nMr Tan Ah Kow has a history of medical conditions. He has had hypertension and hyperlipidemia since 1990 and suffered several strokes in 2005. He subsequently developed heart problems (cardiomyopathy), cardiac failure and chronic renal disease and was treated in ABC Hospital.\\nHe was last admitted to the ABC Hospital on 1 April 2010 till 15 April 2010, during which he was diagnosed to have suffered from a stroke. This was confirmed by CT and MRI brain scans.\\nThereafter, he was transferred to XYZ Hospital for stroke rehabilitation on 15 April 2010.\\nAfter that, Mr Tan was referred to Blackacre Hospital for follow-up treatment from in November 2010. The clinical impression was that he was manifesting behavioural and psychological symptoms secondary to Dementia.\\n')]\n"
          ]
        }
      ],
      "source": [
        "!wget https://raw.githubusercontent.com/harshitgupta1998/MedChain-Leveraging-AI-for-Medical-Applications/refs/heads/main/patienthistory.md\n",
        "\n",
        "loader = TextLoader(\"./patienthistory.md\")\n",
        "loaded_text= loader.load()\n",
        "print(type(loaded_text))\n",
        "print(loaded_text)"
      ]
    },
    {
      "cell_type": "code",
      "execution_count": 47,
      "metadata": {
        "id": "xUBbSZ0MUxh-",
        "outputId": "892c488c-b986-4a87-be8a-9113d452dcc2",
        "colab": {
          "base_uri": "https://localhost:8080/"
        }
      },
      "outputs": [
        {
          "output_type": "stream",
          "name": "stdout",
          "text": [
            " Sure, the review contains the following information: \n",
            "\n",
            "- Name of the patient: Mr. Tan Ah Kow\n",
            "- Disease present: Hypertension, hyperlipidemia, strokes, cardiomyopathy, cardiac failure, chronic renal disease, and dementia. \n",
            "- Diagnosis: The patient has been diagnosed with dementia, confirmed by medical professionals at Blackacre Hospital. \n",
            "\n",
            "Please let me know if you would like some more information extracted, and I will be happy to do so. \n"
          ]
        }
      ],
      "source": [
        "#llm=OpenAI(temperature=0)\n",
        "llm=Cohere()\n",
        "\n",
        "template=\"\"\"\n",
        "read the following review and extract the following information:\n",
        "Name of the patient\n",
        "Disease present\n",
        "Diagnosis\n",
        "\n",
        "review is given here : {input_review}\n",
        "\"\"\"\n",
        "\n",
        "prompt=PromptTemplate(template=template,\n",
        "                       input_variables=[\"input_review\"])\n",
        "\n",
        "chain=LLMChain(llm=llm,\n",
        "               prompt=prompt)\n",
        "\n",
        "result=chain.invoke({\"input_review\":loaded_text})\n",
        "print(result['text'])"
      ]
    },
    {
      "cell_type": "markdown",
      "metadata": {
        "id": "LZWQNLOZcbXK"
      },
      "source": [
        "# CSV Loader"
      ]
    },
    {
      "cell_type": "code",
      "execution_count": 48,
      "metadata": {
        "id": "tiV3b1uFcdms",
        "colab": {
          "base_uri": "https://localhost:8080/"
        },
        "outputId": "b284773d-2726-484a-e666-38fb4c51dd99"
      },
      "outputs": [
        {
          "output_type": "stream",
          "name": "stdout",
          "text": [
            "--2025-01-02 07:39:43--  https://raw.githubusercontent.com/venkatareddykonasani/Datasets/master/Leads.csv\n",
            "Resolving raw.githubusercontent.com (raw.githubusercontent.com)... 185.199.109.133, 185.199.110.133, 185.199.108.133, ...\n",
            "Connecting to raw.githubusercontent.com (raw.githubusercontent.com)|185.199.109.133|:443... connected.\n",
            "HTTP request sent, awaiting response... 200 OK\n",
            "Length: 1493 (1.5K) [text/plain]\n",
            "Saving to: ‘Leads.csv.1’\n",
            "\n",
            "Leads.csv.1         100%[===================>]   1.46K  --.-KB/s    in 0s      \n",
            "\n",
            "2025-01-02 07:39:43 (20.9 MB/s) - ‘Leads.csv.1’ saved [1493/1493]\n",
            "\n",
            "<class 'list'>\n",
            "[Document(metadata={'source': './Leads.csv', 'row': 0}, page_content='Week_num: 1\\nLeads: 756.48\\nPromotion_Budget: 51735.6'), Document(metadata={'source': './Leads.csv', 'row': 1}, page_content='Week_num: 2\\nLeads: 878.72\\nPromotion_Budget: 64608.6'), Document(metadata={'source': './Leads.csv', 'row': 2}, page_content='Week_num: 3\\nLeads: 857.92\\nPromotion_Budget: 63833'), Document(metadata={'source': './Leads.csv', 'row': 3}, page_content='Week_num: 4\\nLeads: 715.84\\nPromotion_Budget: 50649.2'), Document(metadata={'source': './Leads.csv', 'row': 4}, page_content='Week_num: 5\\nLeads: 772.48\\nPromotion_Budget: 60965.8'), Document(metadata={'source': './Leads.csv', 'row': 5}, page_content='Week_num: 6\\nLeads: 714.88\\nPromotion_Budget: 47608.4'), Document(metadata={'source': './Leads.csv', 'row': 6}, page_content='Week_num: 7\\nLeads: 815.04\\nPromotion_Budget: 63597.8'), Document(metadata={'source': './Leads.csv', 'row': 7}, page_content='Week_num: 8\\nLeads: 691.84\\nPromotion_Budget: 49515.2'), Document(metadata={'source': './Leads.csv', 'row': 8}, page_content='Week_num: 9\\nLeads: 702.72\\nPromotion_Budget: 42980'), Document(metadata={'source': './Leads.csv', 'row': 9}, page_content='Week_num: 10\\nLeads: 866.56\\nPromotion_Budget: 61332.6'), Document(metadata={'source': './Leads.csv', 'row': 10}, page_content='Week_num: 11\\nLeads: 699.2\\nPromotion_Budget: 49275.8'), Document(metadata={'source': './Leads.csv', 'row': 11}, page_content='Week_num: 12\\nLeads: 889.28\\nPromotion_Budget: 60072.6'), Document(metadata={'source': './Leads.csv', 'row': 12}, page_content='Week_num: 13\\nLeads: 729.28\\nPromotion_Budget: 45696'), Document(metadata={'source': './Leads.csv', 'row': 13}, page_content='Week_num: 14\\nLeads: 889.28\\nPromotion_Budget: 58609.6'), Document(metadata={'source': './Leads.csv', 'row': 14}, page_content='Week_num: 15\\nLeads: 1037.76\\nPromotion_Budget: 70480.2'), Document(metadata={'source': './Leads.csv', 'row': 15}, page_content='Week_num: 16\\nLeads: 736\\nPromotion_Budget: 53697'), Document(metadata={'source': './Leads.csv', 'row': 16}, page_content='Week_num: 17\\nLeads: 973.76\\nPromotion_Budget: 74230.8'), Document(metadata={'source': './Leads.csv', 'row': 17}, page_content='Week_num: 18\\nLeads: 749.12\\nPromotion_Budget: 50023.4'), Document(metadata={'source': './Leads.csv', 'row': 18}, page_content='Week_num: 19\\nLeads: 896\\nPromotion_Budget: 57068.2'), Document(metadata={'source': './Leads.csv', 'row': 19}, page_content='Week_num: 20\\nLeads: 1120.64\\nPromotion_Budget: 82642'), Document(metadata={'source': './Leads.csv', 'row': 20}, page_content='Week_num: 21\\nLeads: 1176\\nPromotion_Budget: 76104'), Document(metadata={'source': './Leads.csv', 'row': 21}, page_content='Week_num: 22\\nLeads: 1148.8\\nPromotion_Budget: 75346.6'), Document(metadata={'source': './Leads.csv', 'row': 22}, page_content='Week_num: 23\\nLeads: 655.04\\nPromotion_Budget: 50271.2'), Document(metadata={'source': './Leads.csv', 'row': 23}, page_content='Week_num: 24\\nLeads: 868.48\\nPromotion_Budget: 65385.6'), Document(metadata={'source': './Leads.csv', 'row': 24}, page_content='Week_num: 25\\nLeads: 919.36\\nPromotion_Budget: 70674.8'), Document(metadata={'source': './Leads.csv', 'row': 25}, page_content='Week_num: 26\\nLeads: 776.32\\nPromotion_Budget: 53260.2'), Document(metadata={'source': './Leads.csv', 'row': 26}, page_content='Week_num: 27\\nLeads: 703.36\\nPromotion_Budget: 51807'), Document(metadata={'source': './Leads.csv', 'row': 27}, page_content='Week_num: 28\\nLeads: 689.92\\nPromotion_Budget: 53937.8'), Document(metadata={'source': './Leads.csv', 'row': 28}, page_content='Week_num: 29\\nLeads: 684.16\\nPromotion_Budget: 41412'), Document(metadata={'source': './Leads.csv', 'row': 29}, page_content='Week_num: 30\\nLeads: 886.4\\nPromotion_Budget: 65333.8'), Document(metadata={'source': './Leads.csv', 'row': 30}, page_content='Week_num: 31\\nLeads: 736\\nPromotion_Budget: 47217.8'), Document(metadata={'source': './Leads.csv', 'row': 31}, page_content='Week_num: 32\\nLeads: 958.72\\nPromotion_Budget: 62008.8'), Document(metadata={'source': './Leads.csv', 'row': 32}, page_content='Week_num: 33\\nLeads: 920\\nPromotion_Budget: 68660.2'), Document(metadata={'source': './Leads.csv', 'row': 33}, page_content='Week_num: 34\\nLeads: 655.04\\nPromotion_Budget: 52479'), Document(metadata={'source': './Leads.csv', 'row': 34}, page_content='Week_num: 35\\nLeads: 710.4\\nPromotion_Budget: 55001.8'), Document(metadata={'source': './Leads.csv', 'row': 35}, page_content='Week_num: 36\\nLeads: 864\\nPromotion_Budget: 56350'), Document(metadata={'source': './Leads.csv', 'row': 36}, page_content='Week_num: 37\\nLeads: 927.04\\nPromotion_Budget: 64118.6'), Document(metadata={'source': './Leads.csv', 'row': 37}, page_content='Week_num: 38\\nLeads: 857.6\\nPromotion_Budget: 57174.6'), Document(metadata={'source': './Leads.csv', 'row': 38}, page_content='Week_num: 39\\nLeads: 726.08\\nPromotion_Budget: 46547.2'), Document(metadata={'source': './Leads.csv', 'row': 39}, page_content='Week_num: 40\\nLeads: 752\\nPromotion_Budget: 59511.2'), Document(metadata={'source': './Leads.csv', 'row': 40}, page_content='Week_num: 41\\nLeads: 939.2\\nPromotion_Budget: 67228'), Document(metadata={'source': './Leads.csv', 'row': 41}, page_content='Week_num: 42\\nLeads: 907.52\\nPromotion_Budget: 57484'), Document(metadata={'source': './Leads.csv', 'row': 42}, page_content='Week_num: 43\\nLeads: 608.64\\nPromotion_Budget: 37395.4'), Document(metadata={'source': './Leads.csv', 'row': 43}, page_content='Week_num: 44\\nLeads: 577.92\\nPromotion_Budget: 36568'), Document(metadata={'source': './Leads.csv', 'row': 44}, page_content='Week_num: 45\\nLeads: 645.44\\nPromotion_Budget: 41637.4'), Document(metadata={'source': './Leads.csv', 'row': 45}, page_content='Week_num: 46\\nLeads: 758.72\\nPromotion_Budget: 51154.6'), Document(metadata={'source': './Leads.csv', 'row': 46}, page_content='Week_num: 47\\nLeads: 668.16\\nPromotion_Budget: 48696.2'), Document(metadata={'source': './Leads.csv', 'row': 47}, page_content='Week_num: 48\\nLeads: 861.76\\nPromotion_Budget: 65871.4'), Document(metadata={'source': './Leads.csv', 'row': 48}, page_content='Week_num: 49\\nLeads: 805.44\\nPromotion_Budget: 63128.8'), Document(metadata={'source': './Leads.csv', 'row': 49}, page_content='Week_num: 50\\nLeads: 809.28\\nPromotion_Budget: 57325.8'), Document(metadata={'source': './Leads.csv', 'row': 50}, page_content='Week_num: 51\\nLeads: 874.56\\nPromotion_Budget: 59049.2'), Document(metadata={'source': './Leads.csv', 'row': 51}, page_content='Week_num: 52\\nLeads: 940.8\\nPromotion_Budget: 69456.8'), Document(metadata={'source': './Leads.csv', 'row': 52}, page_content='Week_num: 53\\nLeads: 690.24\\nPromotion_Budget: 49344.4'), Document(metadata={'source': './Leads.csv', 'row': 53}, page_content='Week_num: 54\\nLeads: 1152\\nPromotion_Budget: 78171.8'), Document(metadata={'source': './Leads.csv', 'row': 54}, page_content='Week_num: 55\\nLeads: 721.28\\nPromotion_Budget: 52616.2'), Document(metadata={'source': './Leads.csv', 'row': 55}, page_content='Week_num: 56\\nLeads: 987.84\\nPromotion_Budget: 70707'), Document(metadata={'source': './Leads.csv', 'row': 56}, page_content='Week_num: 57\\nLeads: 847.56\\nPromotion_Budget: 54551'), Document(metadata={'source': './Leads.csv', 'row': 57}, page_content='Week_num: 58\\nLeads: 771.68\\nPromotion_Budget: 55517'), Document(metadata={'source': './Leads.csv', 'row': 58}, page_content='Week_num: 59\\nLeads: 574\\nPromotion_Budget: 40591.6'), Document(metadata={'source': './Leads.csv', 'row': 59}, page_content='Week_num: 60\\nLeads: 1103.2\\nPromotion_Budget: 73879.4'), Document(metadata={'source': './Leads.csv', 'row': 60}, page_content='Week_num: 61\\nLeads: 1049.44\\nPromotion_Budget: 66677.8'), Document(metadata={'source': './Leads.csv', 'row': 61}, page_content='Week_num: 62\\nLeads: 1089.48\\nPromotion_Budget: 71549.8'), Document(metadata={'source': './Leads.csv', 'row': 62}, page_content='Week_num: 63\\nLeads: 1084.44\\nPromotion_Budget: 75441.8'), Document(metadata={'source': './Leads.csv', 'row': 63}, page_content='Week_num: 64\\nLeads: 1468.88\\nPromotion_Budget: 101213'), Document(metadata={'source': './Leads.csv', 'row': 64}, page_content='Week_num: 65\\nLeads: 1342.6\\nPromotion_Budget: 100300.2'), Document(metadata={'source': './Leads.csv', 'row': 65}, page_content='Week_num: 66\\nLeads: 799.68\\nPromotion_Budget: 58952.6'), Document(metadata={'source': './Leads.csv', 'row': 66}, page_content='Week_num: 67\\nLeads: 839.44\\nPromotion_Budget: 55087.2'), Document(metadata={'source': './Leads.csv', 'row': 67}, page_content='Week_num: 68\\nLeads: 874.44\\nPromotion_Budget: 65268'), Document(metadata={'source': './Leads.csv', 'row': 68}, page_content='Week_num: 69\\nLeads: 1539.44\\nPromotion_Budget: 104179.6'), Document(metadata={'source': './Leads.csv', 'row': 69}, page_content='Week_num: 70\\nLeads: 1163.12\\nPromotion_Budget: 88181.8'), Document(metadata={'source': './Leads.csv', 'row': 70}, page_content='Week_num: 71\\nLeads: 1046.08\\nPromotion_Budget: 67993.8'), Document(metadata={'source': './Leads.csv', 'row': 71}, page_content='Week_num: 72\\nLeads: 1530.48\\nPromotion_Budget: 102445'), Document(metadata={'source': './Leads.csv', 'row': 72}, page_content='Week_num: 73\\nLeads: 1212.4\\nPromotion_Budget: 84457.8'), Document(metadata={'source': './Leads.csv', 'row': 73}, page_content='Week_num: 74\\nLeads: 640.36\\nPromotion_Budget: 44542.4'), Document(metadata={'source': './Leads.csv', 'row': 74}, page_content='Week_num: 75\\nLeads: 1036.28\\nPromotion_Budget: 66914.4'), Document(metadata={'source': './Leads.csv', 'row': 75}, page_content='Week_num: 76\\nLeads: 1338.68\\nPromotion_Budget: 92769.6'), Document(metadata={'source': './Leads.csv', 'row': 76}, page_content='Week_num: 77\\nLeads: 1624.56\\nPromotion_Budget: 110825.4'), Document(metadata={'source': './Leads.csv', 'row': 77}, page_content='Week_num: 78\\nLeads: 865.76\\nPromotion_Budget: 63816.2'), Document(metadata={'source': './Leads.csv', 'row': 78}, page_content='Week_num: 79\\nLeads: 876.68\\nPromotion_Budget: 63663.6'), Document(metadata={'source': './Leads.csv', 'row': 79}, page_content='Week_num: 80\\nLeads: 817.04\\nPromotion_Budget: 57500.8')]\n"
          ]
        }
      ],
      "source": [
        "from langchain_community.document_loaders.csv_loader import CSVLoader\n",
        "!wget https://raw.githubusercontent.com/venkatareddykonasani/Datasets/master/Leads.csv\n",
        "\n",
        "loader = CSVLoader(file_path=\"./Leads.csv\")\n",
        "csv_file_data = loader.load()\n",
        "print(type(csv_file_data))\n",
        "print(csv_file_data)"
      ]
    },
    {
      "cell_type": "code",
      "execution_count": 49,
      "metadata": {
        "id": "a4Fe1ptypQNc",
        "colab": {
          "base_uri": "https://localhost:8080/"
        },
        "outputId": "89e86597-9876-4398-cdf3-64f9185a6690"
      },
      "outputs": [
        {
          "output_type": "stream",
          "name": "stdout",
          "text": [
            "[Document(metadata={'source': './Leads.csv', 'row': 0}, page_content='Week_num: 1\\nLeads: 756.48\\nPromotion_Budget: 51735.6'), Document(metadata={'source': './Leads.csv', 'row': 1}, page_content='Week_num: 2\\nLeads: 878.72\\nPromotion_Budget: 64608.6'), Document(metadata={'source': './Leads.csv', 'row': 2}, page_content='Week_num: 3\\nLeads: 857.92\\nPromotion_Budget: 63833'), Document(metadata={'source': './Leads.csv', 'row': 3}, page_content='Week_num: 4\\nLeads: 715.84\\nPromotion_Budget: 50649.2'), Document(metadata={'source': './Leads.csv', 'row': 4}, page_content='Week_num: 5\\nLeads: 772.48\\nPromotion_Budget: 60965.8'), Document(metadata={'source': './Leads.csv', 'row': 5}, page_content='Week_num: 6\\nLeads: 714.88\\nPromotion_Budget: 47608.4'), Document(metadata={'source': './Leads.csv', 'row': 6}, page_content='Week_num: 7\\nLeads: 815.04\\nPromotion_Budget: 63597.8'), Document(metadata={'source': './Leads.csv', 'row': 7}, page_content='Week_num: 8\\nLeads: 691.84\\nPromotion_Budget: 49515.2'), Document(metadata={'source': './Leads.csv', 'row': 8}, page_content='Week_num: 9\\nLeads: 702.72\\nPromotion_Budget: 42980'), Document(metadata={'source': './Leads.csv', 'row': 9}, page_content='Week_num: 10\\nLeads: 866.56\\nPromotion_Budget: 61332.6'), Document(metadata={'source': './Leads.csv', 'row': 10}, page_content='Week_num: 11\\nLeads: 699.2\\nPromotion_Budget: 49275.8'), Document(metadata={'source': './Leads.csv', 'row': 11}, page_content='Week_num: 12\\nLeads: 889.28\\nPromotion_Budget: 60072.6'), Document(metadata={'source': './Leads.csv', 'row': 12}, page_content='Week_num: 13\\nLeads: 729.28\\nPromotion_Budget: 45696'), Document(metadata={'source': './Leads.csv', 'row': 13}, page_content='Week_num: 14\\nLeads: 889.28\\nPromotion_Budget: 58609.6'), Document(metadata={'source': './Leads.csv', 'row': 14}, page_content='Week_num: 15\\nLeads: 1037.76\\nPromotion_Budget: 70480.2'), Document(metadata={'source': './Leads.csv', 'row': 15}, page_content='Week_num: 16\\nLeads: 736\\nPromotion_Budget: 53697'), Document(metadata={'source': './Leads.csv', 'row': 16}, page_content='Week_num: 17\\nLeads: 973.76\\nPromotion_Budget: 74230.8'), Document(metadata={'source': './Leads.csv', 'row': 17}, page_content='Week_num: 18\\nLeads: 749.12\\nPromotion_Budget: 50023.4'), Document(metadata={'source': './Leads.csv', 'row': 18}, page_content='Week_num: 19\\nLeads: 896\\nPromotion_Budget: 57068.2'), Document(metadata={'source': './Leads.csv', 'row': 19}, page_content='Week_num: 20\\nLeads: 1120.64\\nPromotion_Budget: 82642'), Document(metadata={'source': './Leads.csv', 'row': 20}, page_content='Week_num: 21\\nLeads: 1176\\nPromotion_Budget: 76104'), Document(metadata={'source': './Leads.csv', 'row': 21}, page_content='Week_num: 22\\nLeads: 1148.8\\nPromotion_Budget: 75346.6'), Document(metadata={'source': './Leads.csv', 'row': 22}, page_content='Week_num: 23\\nLeads: 655.04\\nPromotion_Budget: 50271.2'), Document(metadata={'source': './Leads.csv', 'row': 23}, page_content='Week_num: 24\\nLeads: 868.48\\nPromotion_Budget: 65385.6'), Document(metadata={'source': './Leads.csv', 'row': 24}, page_content='Week_num: 25\\nLeads: 919.36\\nPromotion_Budget: 70674.8'), Document(metadata={'source': './Leads.csv', 'row': 25}, page_content='Week_num: 26\\nLeads: 776.32\\nPromotion_Budget: 53260.2'), Document(metadata={'source': './Leads.csv', 'row': 26}, page_content='Week_num: 27\\nLeads: 703.36\\nPromotion_Budget: 51807'), Document(metadata={'source': './Leads.csv', 'row': 27}, page_content='Week_num: 28\\nLeads: 689.92\\nPromotion_Budget: 53937.8'), Document(metadata={'source': './Leads.csv', 'row': 28}, page_content='Week_num: 29\\nLeads: 684.16\\nPromotion_Budget: 41412'), Document(metadata={'source': './Leads.csv', 'row': 29}, page_content='Week_num: 30\\nLeads: 886.4\\nPromotion_Budget: 65333.8'), Document(metadata={'source': './Leads.csv', 'row': 30}, page_content='Week_num: 31\\nLeads: 736\\nPromotion_Budget: 47217.8'), Document(metadata={'source': './Leads.csv', 'row': 31}, page_content='Week_num: 32\\nLeads: 958.72\\nPromotion_Budget: 62008.8'), Document(metadata={'source': './Leads.csv', 'row': 32}, page_content='Week_num: 33\\nLeads: 920\\nPromotion_Budget: 68660.2'), Document(metadata={'source': './Leads.csv', 'row': 33}, page_content='Week_num: 34\\nLeads: 655.04\\nPromotion_Budget: 52479'), Document(metadata={'source': './Leads.csv', 'row': 34}, page_content='Week_num: 35\\nLeads: 710.4\\nPromotion_Budget: 55001.8'), Document(metadata={'source': './Leads.csv', 'row': 35}, page_content='Week_num: 36\\nLeads: 864\\nPromotion_Budget: 56350'), Document(metadata={'source': './Leads.csv', 'row': 36}, page_content='Week_num: 37\\nLeads: 927.04\\nPromotion_Budget: 64118.6'), Document(metadata={'source': './Leads.csv', 'row': 37}, page_content='Week_num: 38\\nLeads: 857.6\\nPromotion_Budget: 57174.6'), Document(metadata={'source': './Leads.csv', 'row': 38}, page_content='Week_num: 39\\nLeads: 726.08\\nPromotion_Budget: 46547.2'), Document(metadata={'source': './Leads.csv', 'row': 39}, page_content='Week_num: 40\\nLeads: 752\\nPromotion_Budget: 59511.2'), Document(metadata={'source': './Leads.csv', 'row': 40}, page_content='Week_num: 41\\nLeads: 939.2\\nPromotion_Budget: 67228'), Document(metadata={'source': './Leads.csv', 'row': 41}, page_content='Week_num: 42\\nLeads: 907.52\\nPromotion_Budget: 57484'), Document(metadata={'source': './Leads.csv', 'row': 42}, page_content='Week_num: 43\\nLeads: 608.64\\nPromotion_Budget: 37395.4'), Document(metadata={'source': './Leads.csv', 'row': 43}, page_content='Week_num: 44\\nLeads: 577.92\\nPromotion_Budget: 36568'), Document(metadata={'source': './Leads.csv', 'row': 44}, page_content='Week_num: 45\\nLeads: 645.44\\nPromotion_Budget: 41637.4'), Document(metadata={'source': './Leads.csv', 'row': 45}, page_content='Week_num: 46\\nLeads: 758.72\\nPromotion_Budget: 51154.6'), Document(metadata={'source': './Leads.csv', 'row': 46}, page_content='Week_num: 47\\nLeads: 668.16\\nPromotion_Budget: 48696.2'), Document(metadata={'source': './Leads.csv', 'row': 47}, page_content='Week_num: 48\\nLeads: 861.76\\nPromotion_Budget: 65871.4'), Document(metadata={'source': './Leads.csv', 'row': 48}, page_content='Week_num: 49\\nLeads: 805.44\\nPromotion_Budget: 63128.8'), Document(metadata={'source': './Leads.csv', 'row': 49}, page_content='Week_num: 50\\nLeads: 809.28\\nPromotion_Budget: 57325.8'), Document(metadata={'source': './Leads.csv', 'row': 50}, page_content='Week_num: 51\\nLeads: 874.56\\nPromotion_Budget: 59049.2'), Document(metadata={'source': './Leads.csv', 'row': 51}, page_content='Week_num: 52\\nLeads: 940.8\\nPromotion_Budget: 69456.8'), Document(metadata={'source': './Leads.csv', 'row': 52}, page_content='Week_num: 53\\nLeads: 690.24\\nPromotion_Budget: 49344.4'), Document(metadata={'source': './Leads.csv', 'row': 53}, page_content='Week_num: 54\\nLeads: 1152\\nPromotion_Budget: 78171.8'), Document(metadata={'source': './Leads.csv', 'row': 54}, page_content='Week_num: 55\\nLeads: 721.28\\nPromotion_Budget: 52616.2'), Document(metadata={'source': './Leads.csv', 'row': 55}, page_content='Week_num: 56\\nLeads: 987.84\\nPromotion_Budget: 70707'), Document(metadata={'source': './Leads.csv', 'row': 56}, page_content='Week_num: 57\\nLeads: 847.56\\nPromotion_Budget: 54551'), Document(metadata={'source': './Leads.csv', 'row': 57}, page_content='Week_num: 58\\nLeads: 771.68\\nPromotion_Budget: 55517'), Document(metadata={'source': './Leads.csv', 'row': 58}, page_content='Week_num: 59\\nLeads: 574\\nPromotion_Budget: 40591.6'), Document(metadata={'source': './Leads.csv', 'row': 59}, page_content='Week_num: 60\\nLeads: 1103.2\\nPromotion_Budget: 73879.4'), Document(metadata={'source': './Leads.csv', 'row': 60}, page_content='Week_num: 61\\nLeads: 1049.44\\nPromotion_Budget: 66677.8'), Document(metadata={'source': './Leads.csv', 'row': 61}, page_content='Week_num: 62\\nLeads: 1089.48\\nPromotion_Budget: 71549.8'), Document(metadata={'source': './Leads.csv', 'row': 62}, page_content='Week_num: 63\\nLeads: 1084.44\\nPromotion_Budget: 75441.8'), Document(metadata={'source': './Leads.csv', 'row': 63}, page_content='Week_num: 64\\nLeads: 1468.88\\nPromotion_Budget: 101213'), Document(metadata={'source': './Leads.csv', 'row': 64}, page_content='Week_num: 65\\nLeads: 1342.6\\nPromotion_Budget: 100300.2'), Document(metadata={'source': './Leads.csv', 'row': 65}, page_content='Week_num: 66\\nLeads: 799.68\\nPromotion_Budget: 58952.6'), Document(metadata={'source': './Leads.csv', 'row': 66}, page_content='Week_num: 67\\nLeads: 839.44\\nPromotion_Budget: 55087.2'), Document(metadata={'source': './Leads.csv', 'row': 67}, page_content='Week_num: 68\\nLeads: 874.44\\nPromotion_Budget: 65268'), Document(metadata={'source': './Leads.csv', 'row': 68}, page_content='Week_num: 69\\nLeads: 1539.44\\nPromotion_Budget: 104179.6'), Document(metadata={'source': './Leads.csv', 'row': 69}, page_content='Week_num: 70\\nLeads: 1163.12\\nPromotion_Budget: 88181.8'), Document(metadata={'source': './Leads.csv', 'row': 70}, page_content='Week_num: 71\\nLeads: 1046.08\\nPromotion_Budget: 67993.8'), Document(metadata={'source': './Leads.csv', 'row': 71}, page_content='Week_num: 72\\nLeads: 1530.48\\nPromotion_Budget: 102445'), Document(metadata={'source': './Leads.csv', 'row': 72}, page_content='Week_num: 73\\nLeads: 1212.4\\nPromotion_Budget: 84457.8'), Document(metadata={'source': './Leads.csv', 'row': 73}, page_content='Week_num: 74\\nLeads: 640.36\\nPromotion_Budget: 44542.4'), Document(metadata={'source': './Leads.csv', 'row': 74}, page_content='Week_num: 75\\nLeads: 1036.28\\nPromotion_Budget: 66914.4'), Document(metadata={'source': './Leads.csv', 'row': 75}, page_content='Week_num: 76\\nLeads: 1338.68\\nPromotion_Budget: 92769.6'), Document(metadata={'source': './Leads.csv', 'row': 76}, page_content='Week_num: 77\\nLeads: 1624.56\\nPromotion_Budget: 110825.4'), Document(metadata={'source': './Leads.csv', 'row': 77}, page_content='Week_num: 78\\nLeads: 865.76\\nPromotion_Budget: 63816.2'), Document(metadata={'source': './Leads.csv', 'row': 78}, page_content='Week_num: 79\\nLeads: 876.68\\nPromotion_Budget: 63663.6'), Document(metadata={'source': './Leads.csv', 'row': 79}, page_content='Week_num: 80\\nLeads: 817.04\\nPromotion_Budget: 57500.8')]\n"
          ]
        }
      ],
      "source": [
        "print(csv_file_data)"
      ]
    },
    {
      "cell_type": "code",
      "execution_count": 50,
      "metadata": {
        "id": "uAb1P-ZYcdti"
      },
      "outputs": [],
      "source": [
        "#llm=OpenAI(temperature=0)\n",
        "llm=Cohere()\n",
        "\n",
        "template=\"\"\"\n",
        "read the following data and extract the following information:\n",
        "\n",
        "What is the average promotional budget ?\n",
        "What is the average Leads?\n",
        "\n",
        "data is given here : {input_data}\n",
        "\"\"\"\n",
        "\n",
        "prompt=PromptTemplate(template=template,\n",
        "                       input_variables=[\"input_data\"])\n",
        "\n",
        "chain=LLMChain(llm=llm,\n",
        "               prompt=prompt)"
      ]
    },
    {
      "cell_type": "code",
      "execution_count": 51,
      "metadata": {
        "id": "bcA8begOp-BZ",
        "colab": {
          "base_uri": "https://localhost:8080/"
        },
        "outputId": "5faaf8d3-dc8d-4f0a-8487-ecbe0868cdfd"
      },
      "outputs": [
        {
          "output_type": "stream",
          "name": "stdout",
          "text": [
            " Based on the provided data, here is the information you requested:\n",
            "\n",
            "1. The average promotional budget is approximately 53950.68 USD, calculated by averaging the promotion budget for each week.\n",
            "2. The average leads are approximately 852.16, calculated by averaging the leads for each week. \n",
            "\n",
            "While these values are the average over the provided dataset, it should be noted that the range of values varies significantly, with a minimum of 374.04 leads and a maximum of 1539.44 leads in a week, and a minimum of 3795.6 USD and a maximum of 101213 USD in promotional budget for a week. \n"
          ]
        }
      ],
      "source": [
        "result=chain.invoke({\"input_data\":csv_file_data})\n",
        "print(result['text'])"
      ]
    },
    {
      "cell_type": "markdown",
      "metadata": {
        "id": "978LLhDFdTpL"
      },
      "source": [
        "#### However, the loader commonly creates an issue with Large Datasets giving a Max Tokens issue."
      ]
    },
    {
      "cell_type": "markdown",
      "metadata": {
        "id": "xN5OTIWkuClH"
      },
      "source": [
        "#### PyPdf Loader can be used to fetch the MR Report to summarize the data from the file"
      ]
    },
    {
      "cell_type": "code",
      "execution_count": 52,
      "metadata": {
        "id": "PtSL9QDbkteU",
        "colab": {
          "base_uri": "https://localhost:8080/"
        },
        "outputId": "eae3a2b6-bf29-4426-c581-19c3b2fb5097"
      },
      "outputs": [
        {
          "output_type": "stream",
          "name": "stdout",
          "text": [
            "Requirement already satisfied: pypdf in /usr/local/lib/python3.10/dist-packages (5.1.0)\n",
            "Requirement already satisfied: typing_extensions>=4.0 in /usr/local/lib/python3.10/dist-packages (from pypdf) (4.12.2)\n"
          ]
        }
      ],
      "source": [
        "!pip install pypdf"
      ]
    },
    {
      "cell_type": "code",
      "execution_count": 65,
      "metadata": {
        "id": "a4rMdtVOp_Xm",
        "colab": {
          "base_uri": "https://localhost:8080/"
        },
        "outputId": "e608359b-8062-4399-9edd-028f629f9d0b"
      },
      "outputs": [
        {
          "output_type": "stream",
          "name": "stdout",
          "text": [
            "--2025-01-02 07:42:39--  https://github.com/harshitgupta1998/MedChain-Leveraging-AI-for-Medical-Applications/raw/main/SampleMR.pdf\n",
            "Resolving github.com (github.com)... 140.82.112.4\n",
            "Connecting to github.com (github.com)|140.82.112.4|:443... connected.\n",
            "HTTP request sent, awaiting response... 302 Found\n",
            "Location: https://raw.githubusercontent.com/harshitgupta1998/MedChain-Leveraging-AI-for-Medical-Applications/main/SampleMR.pdf [following]\n",
            "--2025-01-02 07:42:39--  https://raw.githubusercontent.com/harshitgupta1998/MedChain-Leveraging-AI-for-Medical-Applications/main/SampleMR.pdf\n",
            "Resolving raw.githubusercontent.com (raw.githubusercontent.com)... 185.199.108.133, 185.199.109.133, 185.199.110.133, ...\n",
            "Connecting to raw.githubusercontent.com (raw.githubusercontent.com)|185.199.108.133|:443... connected.\n",
            "HTTP request sent, awaiting response... 200 OK\n",
            "Length: 41628 (41K) [application/octet-stream]\n",
            "Saving to: ‘SampleMR.pdf.2’\n",
            "\n",
            "SampleMR.pdf.2      100%[===================>]  40.65K  --.-KB/s    in 0.02s   \n",
            "\n",
            "2025-01-02 07:42:40 (2.56 MB/s) - ‘SampleMR.pdf.2’ saved [41628/41628]\n",
            "\n",
            "<class 'list'>\n",
            "[Document(metadata={'source': 'SampleMR.pdf', 'page': 0}, page_content='Full name of patient: Mr Tan Ah Kow \\nNRIC/FIN/Passport no. of patient: S1111111X \\nAge of patient: 55 years old \\nSECTION 2: DOCTOR’S PARTICULARS \\nFull name of doctor: Tan Ah Moi \\nNRIC/FIN/Passport no. of doctor: S2222222Z \\nMCR no. of doctor: 333333 \\nHospital / Clinic name and address: 1 Blackacre Hospital, Singapore 01010101 \\nDoctor’s qualifications and experience in this area of work: \\n[To set out details] \\n- 2 - \\nDoctor-patient relationship: \\nPlease state if you have been seeing the patient regularly over a period of time (if so, please \\nstate when you first started seeing the patient and how often you see the patient) or if you saw \\nthe patient specifically for this mental capacity assessment only. \\nI have been the doctor in charge of Mr Tan Ah Kow since November 2010. I have seen Mr Tan \\nregularly since then, on average once or twice a year. For purposes of this medical report, I re-\\nexamined Mr Tan on 20 June 2015. \\nSECTION 3: PATIENT’S MEDICAL INFORMATION \\nPatient’s clinical history: \\nPlease also state the source of the information (e.g. from medical records, from the patient, \\nfrom the applicant etc.). \\nMr Tan Ah Kow was accompanied by his son, Mr Tan Ah Beng, for the examination. Mr Tan is a 55 \\nyear old man, who is divorced, and unemployed. Mr Tan is currently living with his son, Ah Beng, \\nin Ah Beng’s flat. Mr Tan Ah Beng informed me that Mr Tan Ah Kow used to work as a cleaner. \\nMr Tan Ah Kow has a history of medical conditions. He has had hypertension and hyperlipidemia \\nsince 1990 and suffered several strokes in 2005. He subsequently developed heart problems \\n(cardiomyopathy), cardiac failure and chronic renal disease and was treated in ABC Hospital. \\nHe was last admitted to the ABC Hospital on 1 April 2010 till 15 April 2010, during which he was \\ndiagnosed to have suffered from a stroke. This was confirmed by CT and MRI brain scans. \\nThereafter, he was transferred to XYZ Hospital for stroke rehabilitation on 15 April 2010. \\nAfter that, Mr Tan was referred to Blackacre Hospital for follow-up treatment from in November \\n2010. The clinical impression was that he was manifesting behavioural and psychological \\nsymptoms secondary to Dementia. \\n- 3 - '), Document(metadata={'source': 'SampleMR.pdf', 'page': 1}, page_content='The clinical impression was that he was manifesting behavioural and psychological symptoms \\nsecondary to Dementia. \\nI was informed by Mr Tan Ah Beng that Mr Tan is at present incontinent, and is unable to bathe or \\nuse the toilet on his own. He is, however, able to feed himself. \\nI have observed a gradual deterioration in his cognitive ability and physical state over the years. \\nFindings from physical examination / mental state examination: \\nPlease state your observations of the patient (i.e. the patient’s demeanour, body language, tone \\nof voice etc. relevant to your assessment), the interactions you had with the patient/the tests \\nyou administered/the questions you posed, and the date you examined the patient. \\nMr Tan was brought to the clinic in a wheel chair. His mood was euthymic (i.e. normal, non-\\ndepressed and reasonably positive mood) and he did not have any psychotic symptoms. \\nOrientation to time, place and person \\nWith regard to his orientation to time, place and person, he was unable to tell that he was in a \\nhospital clinic but identified his son and was able to tell his own name and the name of his son. \\nAfter being told he was in a hospital clinic, he identified me as a doctor, when asked. However, \\nhe could not remember my name, although I have been treating him for the last 5 years. He was \\nable to tell correctly how he arrived at the clinic. However, when asked some moments later \\nwhere he was, he said he did not know. \\nHe said that it was 10 February (actual date 20 June) and it was a Wednesday (actual day, \\nMonday). He appeared to be just guessing as to what date and day it was. After being told what \\nthe day and date were, he forgot a few moments later after being asked again. He could not \\nanswer when asked what year it was. \\nWhen asked what time it was, he said that it was 5pm in the afternoon (actual time, 3pm). He \\nwas not able to tell the time from looking at a watch. \\nBasic information \\nHe gave his age as 50 years old (actually 55 years) and could not answer when asked when his \\nbirthday was. He correctly said he lived in a flat with his son, but could not give the correct \\naddress, and also got the area wrong (he said the flat was in Bedok, when it was actually in \\nJurong.) He incorrectly stated that the Prime Minister was Lee Kuan Yew. \\n- 4 - \\nSimple arithmetic, financial issues \\nMr Tan was unable to perform simple arithmetic such as 4 plus 3, giving 8 as the answer, and \\ncould not subtract 7 from 10. He could not count backwards from 20 to 1. \\nHe was unable to recognise notes or coins (he identified a 50-cent coin as 20 cents and a 10-\\ndollar note as 2 dollars). \\nPersonal welfare/property and affairs related questions \\nI asked Mr Tan if he owned any property. Mr Tan said he did. I asked him if he was the sole owner. \\nHe said yes. (However, Mr Tan Ah Beng informed me that Mr Tan owned the flat together with his '), Document(metadata={'source': 'SampleMR.pdf', 'page': 2}, page_content='(Mr Tan’s) elderly mother, in joint names, and that the elderly mother was currently living in the \\nflat by herself.) I asked Mr Tan what the address of the flat was. He said he could not remember. I \\nasked how many rooms the flat had, and he said it was a 4-room flat. (However, Mr Tan Ah Beng \\nsaid it was a 3-room flat.) I asked Mr Tan what he wanted to do with the flat, since he was not \\nstaying there. He said that he wanted to rent it out. I asked him whether he planned to rent out \\nthe whole flat. Mr Tan said yes (even though his elderly mother was still living there.) I asked him \\nhow much rent he planned to charge, Mr Tan said he did not know, and that he was not good at \\nmoney matters. \\nI asked him whether he knew what medical problems he had. Mr Tan just stared at me blankly \\nand shook his head. I asked him whether he remembered being in hospital before. Mr Tan \\nnodded. I asked him if he knew what he was in hospital for. Mr Tan shook his head. I asked him if \\nhe was taking any medicine at the moment. Mr Tan just looked at me blankly and did not reply. \\nDate of physical examination/mental state examination: 20 June 2015 \\nRelevant investigation results: \\n[Results of CT brain, MRI brain scan and other investigations to be stated.] \\n- 5 - \\nDiagnosis: \\n1. Dementia \\n2. Stroke \\nSECTION 4: OPINION ON PATIENT’S MENTAL CAPACITY \\nOPINION ON PATIENT’S MENTAL CAPACITY IN RELATION TO PERSONAL WELFARE \\nIn your opinion, can the patient understand information relevant to a decision relating to his or \\nher personal welfare? \\n Yes \\n  No \\nIn your opinion, can the patient retain information long enough to make a decision relating to his \\nor her personal welfare? \\n Yes \\n  No \\nIn your opinion, can the patient weigh information as part of the process of \\n- 6 - \\nmaking a decision relating to his or her personal welfare? \\n Yes \\n  No \\nIn your opinion, can the patient communicate his or her decision relating to his or her personal \\nwelfare? \\nYes \\n No \\nTaking into consideration the above, in your opinion, does the patient have mental capacity in \\nrespect of personal welfare? '), Document(metadata={'source': 'SampleMR.pdf', 'page': 3}, page_content=' Yes \\n  No \\nOPINION ON PATIENT’S MENTAL CAPACITY IN RELATION TO PROPERTY AND AFFAIRS \\nIn your opinion, can the patient understand information relevant to a decision relating to his or \\nher property and affairs? \\n Yes \\n  No \\nIn your opinion, can the patient retain information long enough to make a decision relating to his \\nor her property and affairs? \\n Yes \\n  No \\nIn your opinion, can the patient weigh information as part of the process of making a decision \\nrelating to his or her property and affairs? \\n Yes \\n  No \\nIn your opinion, can the patient communicate his or her decision relating to his or her property \\nand affairs? \\nYes \\n No \\nTaking into consideration the above, in your opinion, does the patient have mental capacity in \\nrespect of property and affairs? \\n Yes \\n No \\n- 7 - \\nPlease state the basis of your opinion above in respect of the patient’s mental capacity: \\nMr Tan’s dementia and stroke have impaired the functioning of his mind and brain. His failure to \\nremember where he was (i.e. in the hospital) and the day and date, despite being told a short \\nwhile ago, shows his inability to retain information. He was also not able to remember basic \\ninformation such as his age, and the address where he lives. \\nHis failure to tell the time from a watch or to recognize notes and coins shows his inability to \\nunderstand simple information. \\nHe could not do basic arithmetic, which shows that he is not able to weigh and use information. \\nSince he is unable to understand, retain, use or weigh simple information, due to his memory \\ndeficits and cognitive failures, he will not be able to make decisions about his personal and \\nfinancial affairs, which would require being able to process such information. This is also \\ndemonstrated by his inability to remember basic information on the property he owns with his \\nelderly mother, and also his inability to make a realistic and concrete plan for what to do with \\nthe property. He was also not able to remember what medical problems he has, and not able to \\nanswer a question as to whether he is currently on medication. \\nIn my view, his cognitive functions are unlikely to improve and would most likely get worse over \\ntime, as there is no treatment which can reverse his dementia. ')]\n"
          ]
        }
      ],
      "source": [
        "from langchain.document_loaders import PyPDFLoader\n",
        "\n",
        "!wget https://github.com/harshitgupta1998/MedChain-Leveraging-AI-for-Medical-Applications/raw/main/SampleMR.pdf\n",
        "loader=PyPDFLoader(file_path=\"SampleMR.pdf\")\n",
        "pdf_file_data=loader.load()\n",
        "print(type(pdf_file_data))\n",
        "print(pdf_file_data)"
      ]
    },
    {
      "cell_type": "code",
      "source": [
        "#llm=OpenAI(temperature=0)\n",
        "llm=Cohere()\n",
        "\n",
        "template=\"\"\"\n",
        "read the following review and extract the following information:\n",
        "Name of the patient\n",
        "Disease present\n",
        "Diagnosis\n",
        "\n",
        "review is given here : {input_review}\n",
        "\"\"\"\n",
        "\n",
        "prompt=PromptTemplate(template=template,\n",
        "                       input_variables=[\"input_review\"])\n",
        "\n",
        "chain=LLMChain(llm=llm,\n",
        "               prompt=prompt)\n",
        "\n",
        "result=chain.invoke({\"input_review\":pdf_file_data})\n",
        "print(result['text'])"
      ],
      "metadata": {
        "colab": {
          "base_uri": "https://localhost:8080/"
        },
        "id": "P4EaCSvTzspj",
        "outputId": "e55471fc-40be-4a7d-c93a-d62cd550b097"
      },
      "execution_count": 66,
      "outputs": [
        {
          "output_type": "stream",
          "name": "stdout",
          "text": [
            " ```json\n",
            "{\n",
            " \"patient_name\":\"Tan Ah Kow\",\n",
            " \"present_disease\":\"Dementia\",\n",
            " \"diagnosis\":[\n",
            "  \"Dementia\",\n",
            "  \"Stroke\"\n",
            " ]\n",
            "}\n",
            "``` \n",
            "\n",
            "The provided review states that the patient, Mr. Tan Ah Kow, has been manifesting behavioral and psychological symptoms secondary to dementia. He has a history of medical conditions, including hypertension and hyperlipidemia since 1990, and suffered several strokes in 2005. He was diagnosed with dementia in 2015 after being transferred to Blackacre Hospital for stroke rehabilitation. His failure to remember basic information such as his age, and the address where he lives, coupled with his inability to understand, retain, use or weigh simple information, due to his memory deficits and cognitive failures, lead to the diagnosis of dementia. \n"
          ]
        }
      ]
    },
    {
      "cell_type": "markdown",
      "metadata": {
        "id": "YXk5rF70fIjU"
      },
      "source": [
        "# Output Parsers"
      ]
    },
    {
      "cell_type": "markdown",
      "metadata": {
        "id": "iCECeiJOvz5w"
      },
      "source": [
        "#### Datetime Parser can be used to fetch the date and time from various reports and format."
      ]
    },
    {
      "cell_type": "code",
      "execution_count": 55,
      "metadata": {
        "id": "-dbvc70id2_t",
        "colab": {
          "base_uri": "https://localhost:8080/"
        },
        "outputId": "98f4a590-e555-4d44-9f2c-15337057f781"
      },
      "outputs": [
        {
          "output_type": "stream",
          "name": "stdout",
          "text": [
            "Write a datetime string that matches the following pattern: '%Y-%m-%dT%H:%M:%S.%fZ'.\n",
            "\n",
            "Examples: 47-05-30T22:36:43.163190Z, 1457-07-26T06:55:54.040596Z, 1255-02-26T16:15:19.203323Z\n",
            "\n",
            "Return ONLY this string, no other words!\n"
          ]
        }
      ],
      "source": [
        "from langchain.output_parsers import DatetimeOutputParser\n",
        "output_parser = DatetimeOutputParser()\n",
        "format_instructions=output_parser.get_format_instructions()\n",
        "print(format_instructions)"
      ]
    },
    {
      "cell_type": "code",
      "execution_count": 56,
      "metadata": {
        "id": "mcL6slID6_xG"
      },
      "outputs": [],
      "source": [
        "Server_Logs =[\n",
        "    \"[2024-04-01 13:48:11] ERROR: Failed to connect to database. Retrying in 60 seconds.\",\n",
        "    \"[2023-08-04 12:01:00 AM - Warning: The system is running low on disk space.\",\n",
        "    \"[04-01-2024 13:55:39] CRITICAL: System temperature exceeds safe threshold. Initiating shutdown\",\n",
        "    \"[Monday, April 01, 2024 01:55:39 PM] DEBUG: User query executed in 0.45 seconds.\",\n",
        "    \"[13:55:39 on 2024-04-01] ERROR: Unable to send email notification. SMTP server not responding.\"\n",
        "]"
      ]
    },
    {
      "cell_type": "code",
      "execution_count": 57,
      "metadata": {
        "id": "ZLN9BE3xd3Cb"
      },
      "outputs": [],
      "source": [
        "template=\"\"\"\n",
        "Read the server log text and extract the date and time\n",
        "log text is: {log_text}\n",
        "{format_instructions}\n",
        "\"\"\"\n",
        "prompt=PromptTemplate(template=template,\n",
        "                      input_variables=[\"log_text\", \"format_instructions\"])\n",
        "\n",
        "#llm=OpenAI(temperature=0)\n",
        "llm=Cohere()\n",
        "chain=LLMChain(prompt=prompt,\n",
        "               llm=llm)"
      ]
    },
    {
      "cell_type": "code",
      "execution_count": 58,
      "metadata": {
        "id": "_hYgiRxCUgrj",
        "colab": {
          "base_uri": "https://localhost:8080/"
        },
        "outputId": "a0f61a4f-b1d0-4a82-e950-013a9d7c23d0"
      },
      "outputs": [
        {
          "output_type": "stream",
          "name": "stdout",
          "text": [
            " 2024-04-01T13:48:11.000000Z ; [2024-04-01 13:48:11] ERROR: Failed to connect to database. Retrying in 60 seconds.\n",
            " 2023-08-04T12:01:00.000000Z ; [2023-08-04 12:01:00 AM - Warning: The system is running low on disk space.\n",
            " 2024-04-01T13:55:39.000000Z ; [04-01-2024 13:55:39] CRITICAL: System temperature exceeds safe threshold. Initiating shutdown\n",
            " 2024-04-01T13:55:39.000Z ; [Monday, April 01, 2024 01:55:39 PM] DEBUG: User query executed in 0.45 seconds.\n",
            " 2024-04-01T13:55:39.000Z ; [13:55:39 on 2024-04-01] ERROR: Unable to send email notification. SMTP server not responding.\n"
          ]
        }
      ],
      "source": [
        "for log_message in Server_Logs:\n",
        "  result=chain.invoke({\"log_text\":log_message,\n",
        "                      \"format_instructions\":format_instructions })\n",
        "  print(result[\"text\"],\";\", log_message )"
      ]
    },
    {
      "cell_type": "markdown",
      "metadata": {
        "id": "Y0b1vqvg-slp"
      },
      "source": [
        "# Custom Parser - Using Pydantic"
      ]
    },
    {
      "cell_type": "markdown",
      "metadata": {
        "id": "6-_qrJWWRNjV"
      },
      "source": [
        "Pydantic is a handy tool for making sure the information (or data) your Python program receives is exactly what you expect. With Pydantic, you tell your program what kind of data it should accept (like numbers, text, or dates) using simple rules. If the data matches the rules, your program works smoothly. If not, Pydantic helps by pointing out the problem, making it easier to keep your program safe and error-free."
      ]
    },
    {
      "cell_type": "markdown",
      "metadata": {
        "id": "fCPai0MDVPym"
      },
      "source": [
        "### EmailResponse App to handle patient complaints in five languages like Spainish, Hindi, Russian, Telugu, and French."
      ]
    },
    {
      "cell_type": "code",
      "execution_count": 59,
      "metadata": {
        "id": "KXzdQZCWgaDV"
      },
      "outputs": [],
      "source": [
        "import random as rand\n",
        "import requests\n",
        "from langchain.document_loaders import WebBaseLoader\n",
        "from langchain.prompts import PromptTemplate\n",
        "from langchain.llms import OpenAI\n",
        "from langchain.chains import LLMChain"
      ]
    },
    {
      "cell_type": "code",
      "execution_count": 60,
      "metadata": {
        "id": "T0yJSrjjiMCX",
        "colab": {
          "base_uri": "https://localhost:8080/"
        },
        "outputId": "c98c8304-0649-48ef-9b54-2516722e4ba9"
      },
      "outputs": [
        {
          "output_type": "stream",
          "name": "stdout",
          "text": [
            "https://raw.githubusercontent.com/venkatareddykonasani/Datasets/master/Customer_Emails/Mail2.txt\n",
            "<class 'list'>\n",
            "Estimado soporte al cliente,\n",
            "\n",
            "Me dirijo a ustedes para reportar tres problemas que he encontrado con su servicio:\n",
            "primero, mi último pedido llegó con retraso; segundo, el producto recibido no coincide con lo que pedí;\n",
            "y tercero, no he podido contactar con atención al cliente por teléfono. Agradecería su pronta respuesta y una solución a estos inconvenientes.\n",
            "Mi número de cliente es CFC16785.\n",
            "\n",
            "Atentamente,\n",
            "Lynda\n"
          ]
        }
      ],
      "source": [
        "email_location=\"https://raw.githubusercontent.com/venkatareddykonasani/Datasets/master/Customer_Emails/Mail\"+str(rand.randint(1,5))+\".txt\"\n",
        "print(email_location)\n",
        "\n",
        "loader = WebBaseLoader(email_location)\n",
        "loaded_text= loader.load()\n",
        "print(type(loaded_text))\n",
        "final_mail=loaded_text[0].page_content\n",
        "print(final_mail)"
      ]
    },
    {
      "cell_type": "code",
      "execution_count": 61,
      "metadata": {
        "id": "ca1pFAanWcco",
        "colab": {
          "base_uri": "https://localhost:8080/"
        },
        "outputId": "dbc69b00-fc0f-4362-f89f-625b6b1f7644"
      },
      "outputs": [
        {
          "output_type": "stream",
          "name": "stdout",
          "text": [
            "The output should be formatted as a JSON instance that conforms to the JSON schema below.\n",
            "\n",
            "As an example, for the schema {\"properties\": {\"foo\": {\"title\": \"Foo\", \"description\": \"a list of strings\", \"type\": \"array\", \"items\": {\"type\": \"string\"}}}, \"required\": [\"foo\"]}\n",
            "the object {\"foo\": [\"bar\", \"baz\"]} is a well-formatted instance of the schema. The object {\"properties\": {\"foo\": [\"bar\", \"baz\"]}} is not well-formatted.\n",
            "\n",
            "Here is the output schema:\n",
            "```\n",
            "{\"properties\": {\"Email_Language\": {\"description\": \"The Original Language of the Email\", \"title\": \"Email Language\", \"type\": \"string\"}, \"Customer_ID\": {\"description\": \"The Customer ID mentioned in the mail\", \"title\": \"Customer Id\", \"type\": \"string\"}, \"English_email\": {\"description\": \"The email after translating to English\", \"title\": \"English Email\", \"type\": \"string\"}, \"Summary\": {\"description\": \"A 4 bullets point summary of the email\", \"title\": \"Summary\", \"type\": \"string\"}, \"Reply\": {\"description\": \"A polite 2 line reply to the email\", \"title\": \"Reply\", \"type\": \"string\"}}, \"required\": [\"Email_Language\", \"Customer_ID\", \"English_email\", \"Summary\", \"Reply\"]}\n",
            "```\n"
          ]
        }
      ],
      "source": [
        "from langchain.output_parsers import PydanticOutputParser\n",
        "from pydantic import BaseModel, Field\n",
        "\n",
        "class EmailResponse(BaseModel):\n",
        "  Email_Language: str= Field(description= \"The Original Language of the Email\")\n",
        "  Customer_ID: str= Field(description= \"The Customer ID mentioned in the mail\")\n",
        "  English_email: str= Field(description= \"The email after translating to English\")\n",
        "  Summary: str= Field(description= \"A 4 bullets point summary of the email\")\n",
        "  Reply: str= Field(description= \"A polite 2 line reply to the email\")\n",
        "\n",
        "custom_output_parser= PydanticOutputParser(pydantic_object=EmailResponse)\n",
        "print(custom_output_parser.get_format_instructions())"
      ]
    },
    {
      "cell_type": "code",
      "execution_count": 62,
      "metadata": {
        "id": "LrWNYaWvViUR",
        "colab": {
          "base_uri": "https://localhost:8080/"
        },
        "outputId": "3a6acbf6-79fe-4f2b-f951-28744345a842"
      },
      "outputs": [
        {
          "output_type": "stream",
          "name": "stdout",
          "text": [
            " {\n",
            "    \"properties\": {\n",
            "        \"Email_Language\": \"Spanish\",\n",
            "        \"Customer_ID\": \"CFC16785\",\n",
            "        \"English_email\": \"Dear support team, \\n\\nI would like to bring to your attention three issues I have encountered while using your service: \\n1. My latest order arrived late. \\n2. The received product did not match my order. \\n3. I was unable to reach customer support by phone. \\n\\nI would appreciate a quick response and an appropriate solution to these inconveniences. \\n\\nBest regards, \\nLynda (Customer ID: CFC16785)\",\n",
            "        \"Summary\": \"Three issues; late delivery, incorrect product, and no response from phone customer support.\",\n",
            "        \"Reply\": \"Thank you for bringing this to our attention, Lynda. We apologize for the inconvenience you have experienced. We will work to improve our services and ensure this type of situation does not happen again. Please allow us to rectify this immediately by contacting us at the toll-free number on our website. Thank you for being a valued customer.\"\n",
            "    },\n",
            "    \"required\": [\"Email_Language\", \"Customer_ID\", \"English_email\", \"Summary\", \"Reply\n"
          ]
        }
      ],
      "source": [
        "template=\"\"\"\n",
        "Take the email as input. Email text is {email}\n",
        "{format_instructions}\n",
        "\"\"\"\n",
        "prompt=PromptTemplate(template=template,\n",
        "                      input_variables=[\"email\",\"format_instructions\"])\n",
        "\n",
        "llm=Cohere()\n",
        "\n",
        "chain=LLMChain(prompt=prompt,\n",
        "               llm=llm)\n",
        "\n",
        "result=chain.invoke({\"email\":final_mail,\n",
        "                     \"format_instructions\":custom_output_parser.get_format_instructions()})\n",
        "print(result[\"text\"])"
      ]
    }
  ],
  "metadata": {
    "colab": {
      "provenance": []
    },
    "kernelspec": {
      "display_name": "Python 3",
      "name": "python3"
    },
    "language_info": {
      "name": "python"
    }
  },
  "nbformat": 4,
  "nbformat_minor": 0
}
